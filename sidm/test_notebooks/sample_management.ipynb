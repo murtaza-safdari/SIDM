{
 "cells": [
  {
   "cell_type": "code",
   "execution_count": 1,
   "id": "570b7671-e4bf-4e86-9466-988a3d473645",
   "metadata": {
    "tags": []
   },
   "outputs": [
    {
     "data": {
      "text/plain": [
       "<module 'sidm.tools.utilities' from '/home/cms-jovyan/SIDM/sidm/test_notebooks/../../sidm/tools/utilities.py'>"
      ]
     },
     "execution_count": 1,
     "metadata": {},
     "output_type": "execute_result"
    }
   ],
   "source": [
    "# python\n",
    "import sys\n",
    "import os\n",
    "import importlib\n",
    "# columnar analysis\n",
    "from coffea import processor\n",
    "# local\n",
    "sys.path.insert(1, os.path.join(sys.path[0], '../..')) # fixme: there must be a better way to handle this...\n",
    "from sidm.tools import ffschema, sidm_processor, utilities\n",
    "# always reload local modules to pick up changes during development\n",
    "importlib.reload(ffschema)\n",
    "importlib.reload(sidm_processor)\n",
    "importlib.reload(utilities)"
   ]
  },
  {
   "cell_type": "code",
   "execution_count": 2,
   "id": "88b5bd44-d69b-406e-8323-9a3c08851261",
   "metadata": {
    "tags": []
   },
   "outputs": [
    {
     "data": {
      "application/vnd.jupyter.widget-view+json": {
       "model_id": "63d3e056219542018b642bf13e9ee891",
       "version_major": 2,
       "version_minor": 0
      },
      "text/plain": [
       "Output()"
      ]
     },
     "metadata": {},
     "output_type": "display_data"
    },
    {
     "data": {
      "text/html": [
       "<pre style=\"white-space:pre;overflow-x:auto;line-height:normal;font-family:Menlo,'DejaVu Sans Mono',consolas,'Courier New',monospace\"></pre>\n"
      ],
      "text/plain": []
     },
     "metadata": {},
     "output_type": "display_data"
    },
    {
     "data": {
      "text/html": [
       "<pre style=\"white-space:pre;overflow-x:auto;line-height:normal;font-family:Menlo,'DejaVu Sans Mono',consolas,'Courier New',monospace\">\n",
       "</pre>\n"
      ],
      "text/plain": [
       "\n"
      ]
     },
     "metadata": {},
     "output_type": "display_data"
    },
    {
     "data": {
      "application/vnd.jupyter.widget-view+json": {
       "model_id": "ea9e28391b45444c91587a596feafef4",
       "version_major": 2,
       "version_minor": 0
      },
      "text/plain": [
       "Output()"
      ]
     },
     "metadata": {},
     "output_type": "display_data"
    },
    {
     "data": {
      "text/html": [
       "<pre style=\"white-space:pre;overflow-x:auto;line-height:normal;font-family:Menlo,'DejaVu Sans Mono',consolas,'Courier New',monospace\"></pre>\n"
      ],
      "text/plain": []
     },
     "metadata": {},
     "output_type": "display_data"
    },
    {
     "data": {
      "text/html": [
       "<pre style=\"white-space:pre;overflow-x:auto;line-height:normal;font-family:Menlo,'DejaVu Sans Mono',consolas,'Courier New',monospace\">\n",
       "</pre>\n"
      ],
      "text/plain": [
       "\n"
      ]
     },
     "metadata": {},
     "output_type": "display_data"
    }
   ],
   "source": [
    "samples = [\n",
    "    \"2Mu2E_100GeV_1p2GeV_0p096mm\",\n",
    "    \"2Mu2E_100GeV_1p2GeV_9p6mm\",\n",
    "]\n",
    "fileset = utilities.make_fileset(samples, \"ffntuple_v4\")\n",
    "\n",
    "runner = processor.Runner(\n",
    "    executor=processor.FuturesExecutor(),\n",
    "    schema=ffschema.FFSchema,\n",
    ")\n",
    "\n",
    "p = sidm_processor.SidmProcessor(\n",
    "    [\n",
    "        \"2mu2e\",\n",
    "    ],\n",
    "    [\"base\"]\n",
    ")\n",
    "\n",
    "output = runner.run(fileset, treename=\"ffNtuplizer/ffNtuple\", processor_instance=p)"
   ]
  },
  {
   "cell_type": "code",
   "execution_count": 3,
   "id": "0facc489-ae55-4266-b991-d8b133b11a3c",
   "metadata": {
    "tags": []
   },
   "outputs": [
    {
     "name": "stdout",
     "output_type": "stream",
     "text": [
      "cut name        individual cut N    all cut N\n",
      "------------  ------------------  -----------\n",
      "No selection             25147.4      25147.4\n",
      "PV filter                25147.4      25147.4\n",
      "Cosmic veto              25147.4      25147.4\n",
      ">=2 LJs                   9196.2       9196.2\n",
      "2mu2e                     9194.8       9194.8\n",
      "cut name        individual %    marginal %    cumulative %\n",
      "------------  --------------  ------------  --------------\n",
      "No selection           100.0         100.0           100.0\n",
      "PV filter              100.0         100.0           100.0\n",
      "Cosmic veto            100.0         100.0           100.0\n",
      ">=2 LJs                 36.6          36.6            36.6\n",
      "2mu2e                   36.6         100.0            36.6\n",
      "\n",
      "cut name        individual cut N    all cut N\n",
      "------------  ------------------  -----------\n",
      "No selection             18970.4      18970.4\n",
      "PV filter                18970.4      18970.4\n",
      "Cosmic veto              18970.4      18970.4\n",
      ">=2 LJs                   3096.4       3096.4\n",
      "2mu2e                     3095.1       3095.1\n",
      "cut name        individual %    marginal %    cumulative %\n",
      "------------  --------------  ------------  --------------\n",
      "No selection           100.0         100.0           100.0\n",
      "PV filter              100.0         100.0           100.0\n",
      "Cosmic veto            100.0         100.0           100.0\n",
      ">=2 LJs                 16.3          16.3            16.3\n",
      "2mu2e                   16.3         100.0            16.3\n"
     ]
    }
   ],
   "source": [
    "output['out'][\"2Mu2E_100GeV_1p2GeV_0p096mm\"][\"cutflow\"][\"2mu2e\"].print_table()\n",
    "output['out'][\"2Mu2E_100GeV_1p2GeV_0p096mm\"][\"cutflow\"][\"2mu2e\"].print_table(fraction=True)\n",
    "print()\n",
    "output['out'][\"2Mu2E_100GeV_1p2GeV_9p6mm\"][\"cutflow\"][\"2mu2e\"].print_table()\n",
    "output['out'][\"2Mu2E_100GeV_1p2GeV_9p6mm\"][\"cutflow\"][\"2mu2e\"].print_table(fraction=True)"
   ]
  },
  {
   "cell_type": "code",
   "execution_count": 4,
   "id": "e8efb367-07b5-4302-aef6-e6355bf01722",
   "metadata": {
    "tags": []
   },
   "outputs": [
    {
     "data": {
      "application/vnd.jupyter.widget-view+json": {
       "model_id": "8817a5e2d3844b369f3cf713ea411ac1",
       "version_major": 2,
       "version_minor": 0
      },
      "text/plain": [
       "Output()"
      ]
     },
     "metadata": {},
     "output_type": "display_data"
    },
    {
     "data": {
      "text/html": [
       "<pre style=\"white-space:pre;overflow-x:auto;line-height:normal;font-family:Menlo,'DejaVu Sans Mono',consolas,'Courier New',monospace\"></pre>\n"
      ],
      "text/plain": []
     },
     "metadata": {},
     "output_type": "display_data"
    },
    {
     "data": {
      "text/html": [
       "<pre style=\"white-space:pre;overflow-x:auto;line-height:normal;font-family:Menlo,'DejaVu Sans Mono',consolas,'Courier New',monospace\">\n",
       "</pre>\n"
      ],
      "text/plain": [
       "\n"
      ]
     },
     "metadata": {},
     "output_type": "display_data"
    },
    {
     "data": {
      "application/vnd.jupyter.widget-view+json": {
       "model_id": "6aed824d40084509bd4f738d80acbde5",
       "version_major": 2,
       "version_minor": 0
      },
      "text/plain": [
       "Output()"
      ]
     },
     "metadata": {},
     "output_type": "display_data"
    },
    {
     "name": "stdout",
     "output_type": "stream",
     "text": [
      "Warning: a histogram with the following axis names could not be filled and will be skipped: ['channel', 'lj_pfIsolationPtNoPU05']\n",
      "Warning: a histogram with the following axis names could not be filled and will be skipped: ['channel', 'lj_pfIsolationPt05']\n",
      "Warning: a histogram with the following axis names could not be filled and will be skipped: ['channel', 'lj_pfIsolationPtNoPU07']\n",
      "Warning: a histogram with the following axis names could not be filled and will be skipped: ['channel', 'lj_pfIsolationPt07']\n",
      "Warning: a histogram with the following axis names could not be filled and will be skipped: ['channel', 'ljlj_absdphi', 'lj_pfIsolationPt05']\n",
      "Warning: a histogram with the following axis names could not be filled and will be skipped: ['channel', 'lj_pfIsolationPtNoPU05']\n",
      "Warning: a histogram with the following axis names could not be filled and will be skipped: ['channel', 'lj_pfIsolationPt05']\n",
      "Warning: a histogram with the following axis names could not be filled and will be skipped: ['channel', 'lj_pfIsolationPtNoPU07']\n",
      "Warning: a histogram with the following axis names could not be filled and will be skipped: ['channel', 'lj_pfIsolationPt07']\n",
      "Warning: a histogram with the following axis names could not be filled and will be skipped: ['channel', 'ljlj_absdphi', 'lj_pfIsolationPt05']\n",
      "Warning: a histogram with the following axis names could not be filled and will be skipped: ['channel', 'lj_pfIsolationPtNoPU05']\n",
      "Warning: a histogram with the following axis names could not be filled and will be skipped: ['channel', 'lj_pfIsolationPt05']\n",
      "Warning: a histogram with the following axis names could not be filled and will be skipped: ['channel', 'lj_pfIsolationPtNoPU07']\n",
      "Warning: a histogram with the following axis names could not be filled and will be skipped: ['channel', 'lj_pfIsolationPt07']\n",
      "Warning: a histogram with the following axis names could not be filled and will be skipped: ['channel', 'ljlj_absdphi', 'lj_pfIsolationPt05']\n",
      "Warning: a histogram with the following axis names could not be filled and will be skipped: ['channel', 'lj_pfIsolationPtNoPU05']\n",
      "Warning: a histogram with the following axis names could not be filled and will be skipped: ['channel', 'lj_pfIsolationPt05']\n",
      "Warning: a histogram with the following axis names could not be filled and will be skipped: ['channel', 'lj_pfIsolationPtNoPU07']\n",
      "Warning: a histogram with the following axis names could not be filled and will be skipped: ['channel', 'lj_pfIsolationPt07']\n",
      "Warning: a histogram with the following axis names could not be filled and will be skipped: ['channel', 'ljlj_absdphi', 'lj_pfIsolationPt05']\n",
      "Warning: a histogram with the following axis names could not be filled and will be skipped: ['channel', 'lj_pfIsolationPtNoPU05']\n",
      "Warning: a histogram with the following axis names could not be filled and will be skipped: ['channel', 'lj_pfIsolationPt05']\n",
      "Warning: a histogram with the following axis names could not be filled and will be skipped: ['channel', 'lj_pfIsolationPtNoPU07']\n",
      "Warning: a histogram with the following axis names could not be filled and will be skipped: ['channel', 'lj_pfIsolationPt07']\n",
      "Warning: a histogram with the following axis names could not be filled and will be skipped: ['channel', 'ljlj_absdphi', 'lj_pfIsolationPt05']\n",
      "Warning: a histogram with the following axis names could not be filled and will be skipped: ['channel', 'lj_pfIsolationPtNoPU05']\n",
      "Warning: a histogram with the following axis names could not be filled and will be skipped: ['channel', 'lj_pfIsolationPt05']\n",
      "Warning: a histogram with the following axis names could not be filled and will be skipped: ['channel', 'lj_pfIsolationPtNoPU07']\n",
      "Warning: a histogram with the following axis names could not be filled and will be skipped: ['channel', 'lj_pfIsolationPt07']\n",
      "Warning: a histogram with the following axis names could not be filled and will be skipped: ['channel', 'ljlj_absdphi', 'lj_pfIsolationPt05']\n",
      "Warning: a histogram with the following axis names could not be filled and will be skipped: ['channel', 'lj_pfIsolationPtNoPU05']\n",
      "Warning: a histogram with the following axis names could not be filled and will be skipped: ['channel', 'lj_pfIsolationPt05']\n",
      "Warning: a histogram with the following axis names could not be filled and will be skipped: ['channel', 'lj_pfIsolationPtNoPU07']\n",
      "Warning: a histogram with the following axis names could not be filled and will be skipped: ['channel', 'lj_pfIsolationPt07']\n",
      "Warning: a histogram with the following axis names could not be filled and will be skipped: ['channel', 'ljlj_absdphi', 'lj_pfIsolationPt05']\n",
      "Warning: a histogram with the following axis names could not be filled and will be skipped: ['channel', 'lj_pfIsolationPtNoPU05']\n",
      "Warning: a histogram with the following axis names could not be filled and will be skipped: ['channel', 'lj_pfIsolationPt05']\n",
      "Warning: a histogram with the following axis names could not be filled and will be skipped: ['channel', 'lj_pfIsolationPtNoPU07']\n",
      "Warning: a histogram with the following axis names could not be filled and will be skipped: ['channel', 'lj_pfIsolationPt07']\n",
      "Warning: a histogram with the following axis names could not be filled and will be skipped: ['channel', 'ljlj_absdphi', 'lj_pfIsolationPt05']\n",
      "Warning: a histogram with the following axis names could not be filled and will be skipped: ['channel', 'lj_pfIsolationPtNoPU05']\n",
      "Warning: a histogram with the following axis names could not be filled and will be skipped: ['channel', 'lj_pfIsolationPt05']\n",
      "Warning: a histogram with the following axis names could not be filled and will be skipped: ['channel', 'lj_pfIsolationPtNoPU07']\n",
      "Warning: a histogram with the following axis names could not be filled and will be skipped: ['channel', 'lj_pfIsolationPt07']\n",
      "Warning: a histogram with the following axis names could not be filled and will be skipped: ['channel', 'ljlj_absdphi', 'lj_pfIsolationPt05']\n",
      "Warning: a histogram with the following axis names could not be filled and will be skipped: ['channel', 'lj_pfIsolationPtNoPU05']\n",
      "Warning: a histogram with the following axis names could not be filled and will be skipped: ['channel', 'lj_pfIsolationPt05']\n",
      "Warning: a histogram with the following axis names could not be filled and will be skipped: ['channel', 'lj_pfIsolationPtNoPU07']\n",
      "Warning: a histogram with the following axis names could not be filled and will be skipped: ['channel', 'lj_pfIsolationPt07']\n",
      "Warning: a histogram with the following axis names could not be filled and will be skipped: ['channel', 'ljlj_absdphi', 'lj_pfIsolationPt05']\n",
      "Warning: a histogram with the following axis names could not be filled and will be skipped: ['channel', 'lj_pfIsolationPtNoPU05']\n",
      "Warning: a histogram with the following axis names could not be filled and will be skipped: ['channel', 'lj_pfIsolationPt05']\n",
      "Warning: a histogram with the following axis names could not be filled and will be skipped: ['channel', 'lj_pfIsolationPtNoPU07']\n",
      "Warning: a histogram with the following axis names could not be filled and will be skipped: ['channel', 'lj_pfIsolationPt07']\n",
      "Warning: a histogram with the following axis names could not be filled and will be skipped: ['channel', 'ljlj_absdphi', 'lj_pfIsolationPt05']\n",
      "Warning: a histogram with the following axis names could not be filled and will be skipped: ['channel', 'lj_pfIsolationPtNoPU05']\n",
      "Warning: a histogram with the following axis names could not be filled and will be skipped: ['channel', 'lj_pfIsolationPt05']\n",
      "Warning: a histogram with the following axis names could not be filled and will be skipped: ['channel', 'lj_pfIsolationPtNoPU07']\n",
      "Warning: a histogram with the following axis names could not be filled and will be skipped: ['channel', 'lj_pfIsolationPt07']\n",
      "Warning: a histogram with the following axis names could not be filled and will be skipped: ['channel', 'ljlj_absdphi', 'lj_pfIsolationPt05']\n",
      "Warning: a histogram with the following axis names could not be filled and will be skipped: ['channel', 'lj_pfIsolationPtNoPU05']\n",
      "Warning: a histogram with the following axis names could not be filled and will be skipped: ['channel', 'lj_pfIsolationPt05']\n",
      "Warning: a histogram with the following axis names could not be filled and will be skipped: ['channel', 'lj_pfIsolationPtNoPU07']\n",
      "Warning: a histogram with the following axis names could not be filled and will be skipped: ['channel', 'lj_pfIsolationPt07']\n",
      "Warning: a histogram with the following axis names could not be filled and will be skipped: ['channel', 'ljlj_absdphi', 'lj_pfIsolationPt05']\n",
      "Warning: a histogram with the following axis names could not be filled and will be skipped: ['channel', 'lj_pfIsolationPtNoPU05']\n",
      "Warning: a histogram with the following axis names could not be filled and will be skipped: ['channel', 'lj_pfIsolationPt05']\n",
      "Warning: a histogram with the following axis names could not be filled and will be skipped: ['channel', 'lj_pfIsolationPtNoPU07']\n",
      "Warning: a histogram with the following axis names could not be filled and will be skipped: ['channel', 'lj_pfIsolationPt07']\n",
      "Warning: a histogram with the following axis names could not be filled and will be skipped: ['channel', 'ljlj_absdphi', 'lj_pfIsolationPt05']\n",
      "Warning: a histogram with the following axis names could not be filled and will be skipped: ['channel', 'lj_pfIsolationPtNoPU05']\n",
      "Warning: a histogram with the following axis names could not be filled and will be skipped: ['channel', 'lj_pfIsolationPt05']\n",
      "Warning: a histogram with the following axis names could not be filled and will be skipped: ['channel', 'lj_pfIsolationPtNoPU07']\n",
      "Warning: a histogram with the following axis names could not be filled and will be skipped: ['channel', 'lj_pfIsolationPt07']\n",
      "Warning: a histogram with the following axis names could not be filled and will be skipped: ['channel', 'ljlj_absdphi', 'lj_pfIsolationPt05']\n",
      "Warning: a histogram with the following axis names could not be filled and will be skipped: ['channel', 'lj_pfIsolationPtNoPU05']\n",
      "Warning: a histogram with the following axis names could not be filled and will be skipped: ['channel', 'lj_pfIsolationPt05']\n",
      "Warning: a histogram with the following axis names could not be filled and will be skipped: ['channel', 'lj_pfIsolationPtNoPU07']\n",
      "Warning: a histogram with the following axis names could not be filled and will be skipped: ['channel', 'lj_pfIsolationPt07']\n",
      "Warning: a histogram with the following axis names could not be filled and will be skipped: ['channel', 'ljlj_absdphi', 'lj_pfIsolationPt05']\n",
      "Warning: a histogram with the following axis names could not be filled and will be skipped: ['channel', 'lj_pfIsolationPtNoPU05']\n",
      "Warning: a histogram with the following axis names could not be filled and will be skipped: ['channel', 'lj_pfIsolationPt05']\n",
      "Warning: a histogram with the following axis names could not be filled and will be skipped: ['channel', 'lj_pfIsolationPtNoPU07']\n",
      "Warning: a histogram with the following axis names could not be filled and will be skipped: ['channel', 'lj_pfIsolationPt07']\n",
      "Warning: a histogram with the following axis names could not be filled and will be skipped: ['channel', 'ljlj_absdphi', 'lj_pfIsolationPt05']\n",
      "Warning: a histogram with the following axis names could not be filled and will be skipped: ['channel', 'lj_pfIsolationPtNoPU05']\n",
      "Warning: a histogram with the following axis names could not be filled and will be skipped: ['channel', 'lj_pfIsolationPt05']\n",
      "Warning: a histogram with the following axis names could not be filled and will be skipped: ['channel', 'lj_pfIsolationPtNoPU07']\n",
      "Warning: a histogram with the following axis names could not be filled and will be skipped: ['channel', 'lj_pfIsolationPt07']\n",
      "Warning: a histogram with the following axis names could not be filled and will be skipped: ['channel', 'ljlj_absdphi', 'lj_pfIsolationPt05']\n",
      "Warning: a histogram with the following axis names could not be filled and will be skipped: ['channel', 'lj_pfIsolationPtNoPU05']\n",
      "Warning: a histogram with the following axis names could not be filled and will be skipped: ['channel', 'lj_pfIsolationPt05']\n",
      "Warning: a histogram with the following axis names could not be filled and will be skipped: ['channel', 'lj_pfIsolationPtNoPU07']\n",
      "Warning: a histogram with the following axis names could not be filled and will be skipped: ['channel', 'lj_pfIsolationPt07']\n",
      "Warning: a histogram with the following axis names could not be filled and will be skipped: ['channel', 'ljlj_absdphi', 'lj_pfIsolationPt05']\n",
      "Warning: a histogram with the following axis names could not be filled and will be skipped: ['channel', 'lj_pfIsolationPtNoPU05']\n",
      "Warning: a histogram with the following axis names could not be filled and will be skipped: ['channel', 'lj_pfIsolationPt05']\n",
      "Warning: a histogram with the following axis names could not be filled and will be skipped: ['channel', 'lj_pfIsolationPtNoPU07']\n",
      "Warning: a histogram with the following axis names could not be filled and will be skipped: ['channel', 'lj_pfIsolationPt07']\n",
      "Warning: a histogram with the following axis names could not be filled and will be skipped: ['channel', 'ljlj_absdphi', 'lj_pfIsolationPt05']\n",
      "Warning: a histogram with the following axis names could not be filled and will be skipped: ['channel', 'lj_pfIsolationPtNoPU05']\n",
      "Warning: a histogram with the following axis names could not be filled and will be skipped: ['channel', 'lj_pfIsolationPt05']\n",
      "Warning: a histogram with the following axis names could not be filled and will be skipped: ['channel', 'lj_pfIsolationPtNoPU07']\n",
      "Warning: a histogram with the following axis names could not be filled and will be skipped: ['channel', 'lj_pfIsolationPt07']\n",
      "Warning: a histogram with the following axis names could not be filled and will be skipped: ['channel', 'ljlj_absdphi', 'lj_pfIsolationPt05']\n",
      "Warning: a histogram with the following axis names could not be filled and will be skipped: ['channel', 'lj_pfIsolationPtNoPU05']\n",
      "Warning: a histogram with the following axis names could not be filled and will be skipped: ['channel', 'lj_pfIsolationPt05']\n",
      "Warning: a histogram with the following axis names could not be filled and will be skipped: ['channel', 'lj_pfIsolationPtNoPU07']\n",
      "Warning: a histogram with the following axis names could not be filled and will be skipped: ['channel', 'lj_pfIsolationPt07']\n",
      "Warning: a histogram with the following axis names could not be filled and will be skipped: ['channel', 'ljlj_absdphi', 'lj_pfIsolationPt05']\n",
      "Warning: a histogram with the following axis names could not be filled and will be skipped: ['channel', 'lj_pfIsolationPtNoPU05']\n",
      "Warning: a histogram with the following axis names could not be filled and will be skipped: ['channel', 'lj_pfIsolationPt05']\n",
      "Warning: a histogram with the following axis names could not be filled and will be skipped: ['channel', 'lj_pfIsolationPtNoPU07']\n",
      "Warning: a histogram with the following axis names could not be filled and will be skipped: ['channel', 'lj_pfIsolationPt07']\n",
      "Warning: a histogram with the following axis names could not be filled and will be skipped: ['channel', 'ljlj_absdphi', 'lj_pfIsolationPt05']\n",
      "Warning: a histogram with the following axis names could not be filled and will be skipped: ['channel', 'lj_pfIsolationPtNoPU05']\n",
      "Warning: a histogram with the following axis names could not be filled and will be skipped: ['channel', 'lj_pfIsolationPt05']\n",
      "Warning: a histogram with the following axis names could not be filled and will be skipped: ['channel', 'lj_pfIsolationPtNoPU07']\n",
      "Warning: a histogram with the following axis names could not be filled and will be skipped: ['channel', 'lj_pfIsolationPt07']\n",
      "Warning: a histogram with the following axis names could not be filled and will be skipped: ['channel', 'ljlj_absdphi', 'lj_pfIsolationPt05']\n",
      "Warning: a histogram with the following axis names could not be filled and will be skipped: ['channel', 'lj_pfIsolationPtNoPU05']\n",
      "Warning: a histogram with the following axis names could not be filled and will be skipped: ['channel', 'lj_pfIsolationPt05']\n",
      "Warning: a histogram with the following axis names could not be filled and will be skipped: ['channel', 'lj_pfIsolationPtNoPU07']\n",
      "Warning: a histogram with the following axis names could not be filled and will be skipped: ['channel', 'lj_pfIsolationPt07']\n",
      "Warning: a histogram with the following axis names could not be filled and will be skipped: ['channel', 'ljlj_absdphi', 'lj_pfIsolationPt05']\n",
      "Warning: a histogram with the following axis names could not be filled and will be skipped: ['channel', 'lj_pfIsolationPtNoPU05']\n",
      "Warning: a histogram with the following axis names could not be filled and will be skipped: ['channel', 'lj_pfIsolationPt05']\n",
      "Warning: a histogram with the following axis names could not be filled and will be skipped: ['channel', 'lj_pfIsolationPtNoPU07']\n",
      "Warning: a histogram with the following axis names could not be filled and will be skipped: ['channel', 'lj_pfIsolationPt07']\n",
      "Warning: a histogram with the following axis names could not be filled and will be skipped: ['channel', 'ljlj_absdphi', 'lj_pfIsolationPt05']\n",
      "Warning: a histogram with the following axis names could not be filled and will be skipped: ['channel', 'lj_pfIsolationPtNoPU05']\n",
      "Warning: a histogram with the following axis names could not be filled and will be skipped: ['channel', 'lj_pfIsolationPt05']\n",
      "Warning: a histogram with the following axis names could not be filled and will be skipped: ['channel', 'lj_pfIsolationPtNoPU07']\n",
      "Warning: a histogram with the following axis names could not be filled and will be skipped: ['channel', 'lj_pfIsolationPt07']\n",
      "Warning: a histogram with the following axis names could not be filled and will be skipped: ['channel', 'ljlj_absdphi', 'lj_pfIsolationPt05']\n",
      "Warning: a histogram with the following axis names could not be filled and will be skipped: ['channel', 'lj_pfIsolationPtNoPU05']\n",
      "Warning: a histogram with the following axis names could not be filled and will be skipped: ['channel', 'lj_pfIsolationPt05']\n",
      "Warning: a histogram with the following axis names could not be filled and will be skipped: ['channel', 'lj_pfIsolationPtNoPU07']\n",
      "Warning: a histogram with the following axis names could not be filled and will be skipped: ['channel', 'lj_pfIsolationPt07']\n",
      "Warning: a histogram with the following axis names could not be filled and will be skipped: ['channel', 'ljlj_absdphi', 'lj_pfIsolationPt05']\n",
      "Warning: a histogram with the following axis names could not be filled and will be skipped: ['channel', 'lj_pfIsolationPtNoPU05']\n",
      "Warning: a histogram with the following axis names could not be filled and will be skipped: ['channel', 'lj_pfIsolationPt05']\n",
      "Warning: a histogram with the following axis names could not be filled and will be skipped: ['channel', 'lj_pfIsolationPtNoPU07']\n",
      "Warning: a histogram with the following axis names could not be filled and will be skipped: ['channel', 'lj_pfIsolationPt07']\n",
      "Warning: a histogram with the following axis names could not be filled and will be skipped: ['channel', 'ljlj_absdphi', 'lj_pfIsolationPt05']\n",
      "Warning: a histogram with the following axis names could not be filled and will be skipped: ['channel', 'lj_pfIsolationPtNoPU05']\n",
      "Warning: a histogram with the following axis names could not be filled and will be skipped: ['channel', 'lj_pfIsolationPt05']\n",
      "Warning: a histogram with the following axis names could not be filled and will be skipped: ['channel', 'lj_pfIsolationPtNoPU07']\n",
      "Warning: a histogram with the following axis names could not be filled and will be skipped: ['channel', 'lj_pfIsolationPt07']\n",
      "Warning: a histogram with the following axis names could not be filled and will be skipped: ['channel', 'ljlj_absdphi', 'lj_pfIsolationPt05']\n",
      "Warning: a histogram with the following axis names could not be filled and will be skipped: ['channel', 'lj_pfIsolationPtNoPU05']\n",
      "Warning: a histogram with the following axis names could not be filled and will be skipped: ['channel', 'lj_pfIsolationPt05']\n",
      "Warning: a histogram with the following axis names could not be filled and will be skipped: ['channel', 'lj_pfIsolationPtNoPU07']\n",
      "Warning: a histogram with the following axis names could not be filled and will be skipped: ['channel', 'lj_pfIsolationPt07']\n",
      "Warning: a histogram with the following axis names could not be filled and will be skipped: ['channel', 'ljlj_absdphi', 'lj_pfIsolationPt05']\n",
      "Warning: a histogram with the following axis names could not be filled and will be skipped: ['channel', 'lj_pfIsolationPtNoPU05']\n",
      "Warning: a histogram with the following axis names could not be filled and will be skipped: ['channel', 'lj_pfIsolationPt05']\n",
      "Warning: a histogram with the following axis names could not be filled and will be skipped: ['channel', 'lj_pfIsolationPtNoPU07']\n",
      "Warning: a histogram with the following axis names could not be filled and will be skipped: ['channel', 'lj_pfIsolationPt07']\n",
      "Warning: a histogram with the following axis names could not be filled and will be skipped: ['channel', 'ljlj_absdphi', 'lj_pfIsolationPt05']\n"
     ]
    },
    {
     "data": {
      "text/html": [
       "<pre style=\"white-space:pre;overflow-x:auto;line-height:normal;font-family:Menlo,'DejaVu Sans Mono',consolas,'Courier New',monospace\"></pre>\n"
      ],
      "text/plain": []
     },
     "metadata": {},
     "output_type": "display_data"
    },
    {
     "data": {
      "text/html": [
       "<pre style=\"white-space:pre;overflow-x:auto;line-height:normal;font-family:Menlo,'DejaVu Sans Mono',consolas,'Courier New',monospace\">\n",
       "</pre>\n"
      ],
      "text/plain": [
       "\n"
      ]
     },
     "metadata": {},
     "output_type": "display_data"
    }
   ],
   "source": [
    "samples = [\n",
    "    \"2Mu2E_100GeV_1p2GeV_0p096mm\",\n",
    "    \"2Mu2E_100GeV_1p2GeV_9p6mm\",\n",
    "]\n",
    "fileset = utilities.make_fileset(samples, \"ffntuple_v2\")\n",
    "\n",
    "runner = processor.Runner(\n",
    "    executor=processor.FuturesExecutor(),\n",
    "    schema=ffschema.FFSchema,\n",
    ")\n",
    "\n",
    "p = sidm_processor.SidmProcessor(\n",
    "    [\n",
    "        \"2mu2e\",\n",
    "    ],\n",
    "    [\"base\"]\n",
    ")\n",
    "\n",
    "output = runner.run(fileset, treename=\"ffNtuplizer/ffNtuple\", processor_instance=p)"
   ]
  },
  {
   "cell_type": "code",
   "execution_count": 5,
   "id": "e716109a-2ff5-4ddd-a1bf-96ace5831dca",
   "metadata": {
    "tags": []
   },
   "outputs": [
    {
     "name": "stdout",
     "output_type": "stream",
     "text": [
      "cut name        individual cut N    all cut N\n",
      "------------  ------------------  -----------\n",
      "No selection             45385.0      45385.0\n",
      "PV filter                45385.0      45385.0\n",
      "Cosmic veto              45369.6      45369.6\n",
      ">=2 LJs                  15657.8      15654.7\n",
      "2mu2e                    15650.9      15647.8\n",
      "cut name        individual %    marginal %    cumulative %\n",
      "------------  --------------  ------------  --------------\n",
      "No selection           100.0         100.0           100.0\n",
      "PV filter              100.0         100.0           100.0\n",
      "Cosmic veto            100.0         100.0           100.0\n",
      ">=2 LJs                 34.5          34.5            34.5\n",
      "2mu2e                   34.5         100.0            34.5\n",
      "\n",
      "cut name        individual cut N    all cut N\n",
      "------------  ------------------  -----------\n",
      "No selection             39972.8      39972.8\n",
      "PV filter                39972.8      39972.8\n",
      "Cosmic veto              39959.1      39959.1\n",
      ">=2 LJs                   7605.6       7605.3\n",
      "2mu2e                     7604.3       7604.0\n",
      "cut name        individual %    marginal %    cumulative %\n",
      "------------  --------------  ------------  --------------\n",
      "No selection           100.0         100.0           100.0\n",
      "PV filter              100.0         100.0           100.0\n",
      "Cosmic veto            100.0         100.0           100.0\n",
      ">=2 LJs                 19.0          19.0            19.0\n",
      "2mu2e                   19.0         100.0            19.0\n"
     ]
    }
   ],
   "source": [
    "output['out'][\"2Mu2E_100GeV_1p2GeV_0p096mm\"][\"cutflow\"][\"2mu2e\"].print_table()\n",
    "output['out'][\"2Mu2E_100GeV_1p2GeV_0p096mm\"][\"cutflow\"][\"2mu2e\"].print_table(fraction=True)\n",
    "print()\n",
    "output['out'][\"2Mu2E_100GeV_1p2GeV_9p6mm\"][\"cutflow\"][\"2mu2e\"].print_table()\n",
    "output['out'][\"2Mu2E_100GeV_1p2GeV_9p6mm\"][\"cutflow\"][\"2mu2e\"].print_table(fraction=True)"
   ]
  },
  {
   "cell_type": "code",
   "execution_count": null,
   "id": "0918ea61-a388-4d5b-9b0c-374f7e43f0bd",
   "metadata": {},
   "outputs": [],
   "source": []
  }
 ],
 "metadata": {
  "kernelspec": {
   "display_name": "Python 3 (ipykernel)",
   "language": "python",
   "name": "python3"
  },
  "language_info": {
   "codemirror_mode": {
    "name": "ipython",
    "version": 3
   },
   "file_extension": ".py",
   "mimetype": "text/x-python",
   "name": "python",
   "nbconvert_exporter": "python",
   "pygments_lexer": "ipython3",
   "version": "3.8.16"
  }
 },
 "nbformat": 4,
 "nbformat_minor": 5
}
