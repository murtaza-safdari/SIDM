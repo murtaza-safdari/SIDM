{
 "cells": [
  {
   "cell_type": "code",
   "execution_count": 1,
   "id": "52d29d6f-4d6a-4f32-88d0-d52dae4d1826",
   "metadata": {
    "tags": []
   },
   "outputs": [],
   "source": [
    "# python\n",
    "import sys\n",
    "import os\n",
    "import importlib\n",
    "# columnar analysis\n",
    "import awkward as ak\n",
    "from coffea.nanoevents import NanoEventsFactory, NanoAODSchema\n",
    "from coffea import processor\n",
    "# local\n",
    "sys.path.insert(1, os.path.join(sys.path[0], '../..')) # fixme: there must be a better way to handle this...\n",
    "from sidm.tools import sidm_processor, utilities\n",
    "# always reload local modules to pick up changes during development\n",
    "importlib.reload(sidm_processor)\n",
    "importlib.reload(utilities)\n",
    "# plotting\n",
    "import matplotlib.pyplot as plt\n",
    "utilities.set_plot_style()\n",
    "%matplotlib inline"
   ]
  },
  {
   "cell_type": "code",
   "execution_count": 2,
   "id": "f2519ecf-93ce-452b-ba87-a79a9d264d07",
   "metadata": {
    "tags": []
   },
   "outputs": [
    {
     "name": "stdout",
     "output_type": "stream",
     "text": [
      "root://xcache//store/group/lpcmetx/SIDM/ULSignalSamples/2018_v6/signals/SIDM_BsTo2DpTo2Mu2e_MBs-500_MDp-5p0_ctau-0p08/LLPnanoAOD/SIDM_BsTo2DpTo2Mu2e_MBs-500_MDp-5p0_ctau-0p08_part-0.root\n"
     ]
    }
   ],
   "source": [
    "#fname = '~/local_data/tta_mAlp-0p35GeV_ctau-1e3mm_part-0.root'\n",
    "samples = [\n",
    "    #'4mu_500GeV_5GeV_0p08mm',\n",
    "    '2mu2e_500GeV_5GeV_0p08mm',\n",
    "]\n",
    "fileset = utilities.make_fileset(samples, \"llpNanoAOD_v1\")\n",
    "# create events collection from single file\n",
    "fname = fileset[samples[0]][0]\n",
    "print(fname)\n",
    "events = NanoEventsFactory.from_root(\n",
    "    fname,\n",
    "    schemaclass=NanoAODSchema,\n",
    ").events()"
   ]
  },
  {
   "cell_type": "code",
   "execution_count": 3,
   "id": "741cf920-2b95-4067-8cfb-8c360337ceea",
   "metadata": {
    "tags": []
   },
   "outputs": [],
   "source": [
    "#ak.fields(events)"
   ]
  },
  {
   "cell_type": "code",
   "execution_count": 4,
   "id": "9a4af9fd-f872-4af7-becf-a711bab5c149",
   "metadata": {
    "tags": []
   },
   "outputs": [],
   "source": [
    "#/store/group/lpcmetx/SIDM/ULSignalSamples/2018_v3/signals/SIDM_BsTo2DpTo4Mu_MBs-500_MDp-5p0_ctau-0p08/LLPnanoAOD/SIDM_BsTo2DpTo4Mu_MBs-500_MDp-5p0_ctau-0p08_part-0.rootak.fields(events.Muon)"
   ]
  },
  {
   "cell_type": "code",
   "execution_count": 5,
   "id": "d08ab941-dadb-4f22-911b-0f59e34f4602",
   "metadata": {
    "tags": []
   },
   "outputs": [
    {
     "name": "stdout",
     "output_type": "stream",
     "text": [
      "['ndof', 'x', 'y', 'z', 'chi2', 'score', 'npvs', 'npvsGood']\n",
      "[2.66, 0.682, 3.2, 4.05, 0.967, 1.88, 0.114, ... 5.01, 5.15, 4.57, 1.2, 5.09, 4.03]\n",
      "[Vertex, Vertex, Vertex, Vertex, Vertex, ... Vertex, Vertex, Vertex, Vertex, Vertex]\n",
      "[39, 13, 24, 38, 43, 35, 21, 15, 43, 31, ... 10, 30, 19, 21, 19, 22, 29, 30, 35, 21]\n"
     ]
    }
   ],
   "source": [
    "print(events.PV.fields)\n",
    "print(events.PV.pos.rho)\n",
    "print(events.PV)\n",
    "print(events.PV.npvs)"
   ]
  },
  {
   "cell_type": "code",
   "execution_count": 6,
   "id": "90973d33-c1d7-4b0b-9781-f3a860728518",
   "metadata": {
    "tags": []
   },
   "outputs": [
    {
     "name": "stdout",
     "output_type": "stream",
     "text": [
      "['eta', 'mass', 'phi', 'pt', 'genPartIdxMother', 'pdgId', 'status', 'statusFlags', 'vx', 'vy', 'vz', 'px', 'py', 'pz', 'genPartIdxMotherG', 'distinctParentIdxG', 'childrenIdxG', 'distinctChildrenIdxG', 'distinctChildrenDeepIdxG']\n",
      "[[-4, 4, 35, 35, 32, 32, -13, 13, -11, ... 11, -413, -4, 411, -411, 433, -421, 431]]\n",
      "[2, 3, 3, 3, 2, 4, 6, 3, 4, 4, 2, 4, 8, 2, ... 4, 3, 2, 7, 3, 2, 4, 2, 2, 4, 2, 2, 4]\n",
      "[2, 2, 2, 2, 2, 2, 2, 2, 2, 2, 2, 2, 2, 2, ... 2, 2, 2, 2, 2, 2, 2, 2, 2, 2, 2, 2, 2]\n",
      "[[[-13, 13], [-11, 11]], [[-13, 13], [-11, ... [-11, 11]], [[-13, 13], [-11, 11]]]\n",
      "[[[True, True], [False, False]], [[True, ... False]], [[True, True], [False, False]]]\n",
      "[[4, 4, 35, 35, 32, 32, 13, 13, 11, 11, ... 11, 11, 413, 4, 411, 411, 433, 421, 431]]\n",
      "[[True, False], [True, False], [True, ... False], [True, False], [True, False]]\n",
      "[[GenParticle], [GenParticle], [GenParticle, ... [GenParticle], [GenParticle]]\n"
     ]
    }
   ],
   "source": [
    "print(events.GenPart.fields)\n",
    "print(events.GenPart.pdgId)\n",
    "print(ak.num(events.GenPart[abs(events.GenPart.pdgId)==13]))\n",
    "print(ak.num(events.GenPart[abs(events.GenPart.pdgId)==32]))\n",
    "print(events.GenPart[abs(events.GenPart.pdgId)==32].children.pdgId)\n",
    "print(abs(events.GenPart[abs(events.GenPart.pdgId)==32].children.pdgId) == 13)\n",
    "print(abs(events.GenPart.pdgId))\n",
    "print(ak.all(abs(events.GenPart[events.GenPart.pdgId==32].children.pdgId) == 13, axis=-1))\n",
    "print(events.GenPart[(abs(events.GenPart.pdgId)== 32) & ak.all(abs(events.GenPart.children.pdgId) == 13, axis=-1)])"
   ]
  },
  {
   "cell_type": "code",
   "execution_count": 7,
   "id": "14363b6b-04eb-41c8-869c-be485a72bae8",
   "metadata": {
    "tags": []
   },
   "outputs": [
    {
     "data": {
      "text/plain": [
       "['dEscaleDown',\n",
       " 'dEscaleUp',\n",
       " 'dEsigmaDown',\n",
       " 'dEsigmaUp',\n",
       " 'deltaEtaSC',\n",
       " 'dr03EcalRecHitSumEt',\n",
       " 'dr03HcalDepth1TowerSumEt',\n",
       " 'dr03TkSumPt',\n",
       " 'dr03TkSumPtHEEP',\n",
       " 'dxy',\n",
       " 'dxyErr',\n",
       " 'dz',\n",
       " 'dzErr',\n",
       " 'eCorr',\n",
       " 'eInvMinusPInv',\n",
       " 'energyErr',\n",
       " 'eta',\n",
       " 'hoe',\n",
       " 'ip3d',\n",
       " 'jetPtRelv2',\n",
       " 'jetRelIso',\n",
       " 'mass',\n",
       " 'miniPFRelIso_all',\n",
       " 'miniPFRelIso_chg',\n",
       " 'mvaFall17V2Iso',\n",
       " 'mvaFall17V2noIso',\n",
       " 'pfRelIso03_all',\n",
       " 'pfRelIso03_chg',\n",
       " 'phi',\n",
       " 'pt',\n",
       " 'r9',\n",
       " 'scEtOverPt',\n",
       " 'sieie',\n",
       " 'sip3d',\n",
       " 'mvaTTH',\n",
       " 'charge',\n",
       " 'cutBased',\n",
       " 'jetIdx',\n",
       " 'pdgId',\n",
       " 'photonIdx',\n",
       " 'tightCharge',\n",
       " 'vidNestedWPBitmap',\n",
       " 'vidNestedWPBitmapHEEP',\n",
       " 'convVeto',\n",
       " 'cutBased_HEEP',\n",
       " 'isPFcand',\n",
       " 'jetNDauCharged',\n",
       " 'lostHits',\n",
       " 'mvaFall17V2Iso_WP80',\n",
       " 'mvaFall17V2Iso_WP90',\n",
       " 'mvaFall17V2Iso_WPL',\n",
       " 'mvaFall17V2noIso_WP80',\n",
       " 'mvaFall17V2noIso_WP90',\n",
       " 'mvaFall17V2noIso_WPL',\n",
       " 'seedGain',\n",
       " 'genPartIdx',\n",
       " 'genPartFlav',\n",
       " 'cleanmask',\n",
       " 'genPartIdxG',\n",
       " 'jetIdxG',\n",
       " 'photonIdxG']"
      ]
     },
     "execution_count": 7,
     "metadata": {},
     "output_type": "execute_result"
    }
   ],
   "source": [
    "events.Electron.fields"
   ]
  },
  {
   "cell_type": "code",
   "execution_count": 8,
   "id": "f2a4db8d-0e5a-47b1-83a0-da1488c83f2d",
   "metadata": {
    "tags": []
   },
   "outputs": [
    {
     "data": {
      "text/plain": [
       "<Array [[613550372, 613550372, ... [613566756]] type='81 * var * int32[parameter...'>"
      ]
     },
     "execution_count": 8,
     "metadata": {},
     "output_type": "execute_result"
    }
   ],
   "source": [
    "events[ak.num(events.Electron)>0].Electron.vidNestedWPBitmap"
   ]
  },
  {
   "cell_type": "code",
   "execution_count": 9,
   "id": "a0b1ecbe-4a86-4ee4-91fc-e774b55d0ca9",
   "metadata": {
    "tags": []
   },
   "outputs": [
    {
     "data": {
      "text/plain": [
       "['idx',\n",
       " 'pt',\n",
       " 'ptErr',\n",
       " 'eta',\n",
       " 'etaErr',\n",
       " 'phi',\n",
       " 'phiErr',\n",
       " 'charge',\n",
       " 'dxy',\n",
       " 'dz',\n",
       " 'vx',\n",
       " 'vy',\n",
       " 'vz',\n",
       " 'chi2',\n",
       " 'ndof',\n",
       " 'trkNumPlanes',\n",
       " 'trkNumHits',\n",
       " 'trkNumDTHits',\n",
       " 'trkNumCSCHits',\n",
       " 'normChi2',\n",
       " 'outerEta',\n",
       " 'outerPhi',\n",
       " 'dzPV',\n",
       " 'dzPVErr',\n",
       " 'dxyPVTraj',\n",
       " 'dxyPVTrajErr',\n",
       " 'dxyPVSigned',\n",
       " 'dxyPVSignedErr',\n",
       " 'ip3DPVSigned',\n",
       " 'ip3DPVSignedErr',\n",
       " 'dxyBS',\n",
       " 'dxyBSErr',\n",
       " 'dzBS',\n",
       " 'dzBSErr',\n",
       " 'dxyBSTraj',\n",
       " 'dxyBSTrajErr',\n",
       " 'dxyBSSigned',\n",
       " 'dxyBSSignedErr',\n",
       " 'ip3DBSSigned',\n",
       " 'ip3DBSSignedErr',\n",
       " 'displacedID',\n",
       " 'muonMatch1',\n",
       " 'muonMatch1idx',\n",
       " 'muonMatch2',\n",
       " 'muonMatch2idx',\n",
       " 'muonMatch3',\n",
       " 'muonMatch3idx',\n",
       " 'muonMatch4',\n",
       " 'muonMatch4idx',\n",
       " 'muonMatch5',\n",
       " 'muonMatch5idx']"
      ]
     },
     "execution_count": 9,
     "metadata": {},
     "output_type": "execute_result"
    }
   ],
   "source": [
    "events.DSAMuon.fields"
   ]
  },
  {
   "cell_type": "code",
   "execution_count": 10,
   "id": "c05feb05-a5d5-45de-97f9-3cd38314daf6",
   "metadata": {},
   "outputs": [
    {
     "name": "stdout",
     "output_type": "stream",
     "text": [
      "[4, 3, 0, 0, 0]\n",
      "[4, 3, 0, 3, 3]\n"
     ]
    }
   ],
   "source": [
    "print(events.DSAMuon.muonMatch1[0])\n",
    "print(events.DSAMuon.trkNumPlanes[0])"
   ]
  },
  {
   "cell_type": "code",
   "execution_count": 11,
   "id": "096a96a8-dea0-4d03-848f-bf3605ad4d01",
   "metadata": {},
   "outputs": [
    {
     "name": "stdout",
     "output_type": "stream",
     "text": [
      "{0.0, 1.0, 2.0, 3.0, 4.0}\n",
      "[{idx: 0, pt: 12.7, ptErr: 5.95, eta: 2.35, ... muonMatch5: -1, muonMatch5idx: -1}]\n",
      "[Muon, Muon]\n",
      "[[Muon, Muon, Muon, Muon, Muon], [Muon, ... Muon, Muon], [Muon, Muon, Muon, Muon]]\n"
     ]
    },
    {
     "data": {
      "text/plain": [
       "<Array [[71, 72, 71], [58]] type='2 * var * int64'>"
      ]
     },
     "execution_count": 11,
     "metadata": {},
     "output_type": "execute_result"
    }
   ],
   "source": [
    "#print(events.DSAMuon.muonMatch1[0])\n",
    "print(set(ak.flatten(events.DSAMuon.muonMatch1idx)))\n",
    "print(events.DSAMuon[0])\n",
    "print(events.Muon[0])\n",
    "print(events.Muon[ak.values_astype(events.DSAMuon.muonMatch1idx, \"int64\")])\n",
    "a = ak.Array([[0, 1, 0], [1]])\n",
    "b = ak.Array([[71, 72], [59, 58, 57]])\n",
    "b[a]"
   ]
  },
  {
   "cell_type": "code",
   "execution_count": 12,
   "id": "db880f11-824e-464c-ae95-d0cbac87c0c2",
   "metadata": {},
   "outputs": [
    {
     "name": "stdout",
     "output_type": "stream",
     "text": [
      "[[4, 3, 0, 0, 0], [4, 4], [3, 3, 0, 3], ... 4, 3, 0], [0, 0, 4, 3, 0], [0, 0, 3, 4]]\n",
      "[[1, 0, 1, 1, 1], [0, 1], [2, 0, 2, 1], ... 0, 1, 1], [1, 1, 1, 0, 1], [1, 1, 0, 1]]\n",
      "[1, 0, 1, 1, 1, 0, 1, 2, 0, 2, 1, 1, 0, 1, ... 1, 0, 1, 1, 1, 1, 1, 0, 1, 1, 1, 0, 1]\n",
      "[[2.14, 2.19], [3.09, -2.73], [0.385, ... 2.83], [-2.27, -2.19], [0.363, 0.466]]\n",
      "[[2.19, 2.14, 2.19, 2.19, 2.19], [3.09, ... -2.19], [0.466, 0.466, 0.363, 0.466]]\n"
     ]
    },
    {
     "data": {
      "text/plain": [
       "<Array [[0.00759, 0.0336, ... 0.000391]] type='82 * var * float32'>"
      ]
     },
     "execution_count": 12,
     "metadata": {},
     "output_type": "execute_result"
    }
   ],
   "source": [
    "print(events.DSAMuon.muonMatch1)\n",
    "print(events.DSAMuon.muonMatch1idx)\n",
    "print(ak.flatten(events.DSAMuon.muonMatch1idx))\n",
    "#print(events.DSAMuon.outerPhi)\n",
    "print(events.Muon.outerPhi)\n",
    "print(events.Muon[ak.values_astype(events.DSAMuon.muonMatch1idx, \"int64\")].outerPhi)\n",
    "utilities.dR_outer(events.DSAMuon, events.Muon[ak.values_astype(events.DSAMuon.muonMatch1idx, \"int64\")])"
   ]
  },
  {
   "cell_type": "code",
   "execution_count": 13,
   "id": "715d9b73-767b-4c00-a2c6-95043e438532",
   "metadata": {},
   "outputs": [
    {
     "data": {
      "application/vnd.jupyter.widget-view+json": {
       "model_id": "bc9cb8de2746485f98e62cfaf4713d08",
       "version_major": 2,
       "version_minor": 0
      },
      "text/plain": [
       "Output()"
      ]
     },
     "metadata": {},
     "output_type": "display_data"
    },
    {
     "data": {
      "text/html": [
       "<pre style=\"white-space:pre;overflow-x:auto;line-height:normal;font-family:Menlo,'DejaVu Sans Mono',consolas,'Courier New',monospace\"></pre>\n"
      ],
      "text/plain": []
     },
     "metadata": {},
     "output_type": "display_data"
    },
    {
     "data": {
      "text/html": [
       "<pre style=\"white-space:pre;overflow-x:auto;line-height:normal;font-family:Menlo,'DejaVu Sans Mono',consolas,'Courier New',monospace\">\n",
       "</pre>\n"
      ],
      "text/plain": [
       "\n"
      ]
     },
     "metadata": {},
     "output_type": "display_data"
    },
    {
     "data": {
      "application/vnd.jupyter.widget-view+json": {
       "model_id": "a72b8be6a2d846aab3bd7aea4f2fddea",
       "version_major": 2,
       "version_minor": 0
      },
      "text/plain": [
       "Output()"
      ]
     },
     "metadata": {},
     "output_type": "display_data"
    },
    {
     "data": {
      "text/html": [
       "<pre style=\"white-space:pre;overflow-x:auto;line-height:normal;font-family:Menlo,'DejaVu Sans Mono',consolas,'Courier New',monospace\">Not applying any cuts to the lepton jets for channel baseNoLj\n",
       "</pre>\n"
      ],
      "text/plain": [
       "Not applying any cuts to the lepton jets for channel baseNoLj\n"
      ]
     },
     "metadata": {},
     "output_type": "display_data"
    },
    {
     "data": {
      "text/html": [
       "<pre style=\"white-space:pre;overflow-x:auto;line-height:normal;font-family:Menlo,'DejaVu Sans Mono',consolas,'Courier New',monospace\">Applying cut:  PV filter\n",
       "</pre>\n"
      ],
      "text/plain": [
       "Applying cut:  PV filter\n"
      ]
     },
     "metadata": {},
     "output_type": "display_data"
    },
    {
     "name": "stdout",
     "output_type": "stream",
     "text": [
      "#--------------------------------------------------------------------------\n",
      "#                         FastJet release 3.4.0\n",
      "#                 M. Cacciari, G.P. Salam and G. Soyez                  \n",
      "#     A software package for jet finding and analysis at colliders      \n",
      "#                           http://fastjet.fr                           \n",
      "#\t                                                                      \n",
      "# Please cite EPJC72(2012)1896 [arXiv:1111.6097] if you use this package\n",
      "# for scientific work and optionally PLB641(2006)57 [hep-ph/0512210].   \n",
      "#                                                                       \n",
      "# FastJet is provided without warranty under the GNU GPL v2 or higher.  \n",
      "# It uses T. Chan's closest pair algorithm, S. Fortune's Voronoi code,\n",
      "# CGAL and 3rd party plugin jet algorithms. See COPYING file for details.\n",
      "#--------------------------------------------------------------------------\n"
     ]
    },
    {
     "data": {
      "text/html": [
       "<pre style=\"white-space:pre;overflow-x:auto;line-height:normal;font-family:Menlo,'DejaVu Sans Mono',consolas,'Courier New',monospace\"></pre>\n"
      ],
      "text/plain": []
     },
     "metadata": {},
     "output_type": "display_data"
    },
    {
     "data": {
      "text/html": [
       "<pre style=\"white-space:pre;overflow-x:auto;line-height:normal;font-family:Menlo,'DejaVu Sans Mono',consolas,'Courier New',monospace\">\n",
       "</pre>\n"
      ],
      "text/plain": [
       "\n"
      ]
     },
     "metadata": {},
     "output_type": "display_data"
    }
   ],
   "source": [
    "runner = processor.Runner(\n",
    "    executor=processor.IterativeExecutor(),\n",
    "    #executor=processor.FuturesExecutor(),\n",
    "    schema=NanoAODSchema,\n",
    "    # maxchunks=1,\n",
    ")\n",
    "\n",
    "p = sidm_processor.SidmProcessor(\n",
    "    [\n",
    "        \"baseNoLj\",\n",
    "        #\"barrelE_ID-DPhiIn\",\n",
    "    ],\n",
    "    [\"muon_base\", \"dsaMuon_base\", \"lj_base\"],\n",
    "    lj_reco_choices=[\"0.4\"],\n",
    "    llpnanoaod=True,\n",
    ")\n",
    "\n",
    "output = runner.run(fileset, treename='Events', processor_instance=p)\n",
    "out = output[\"out\"]"
   ]
  },
  {
   "cell_type": "code",
   "execution_count": null,
   "id": "913523b5-4963-421a-977c-0717f60c5c7d",
   "metadata": {},
   "outputs": [],
   "source": []
  },
  {
   "cell_type": "code",
   "execution_count": 14,
   "id": "fdfea3f5-c92d-4a52-b774-1fd49e5128bc",
   "metadata": {},
   "outputs": [],
   "source": [
    "hists = out[samples[0]][\"hists\"]"
   ]
  },
  {
   "cell_type": "code",
   "execution_count": 15,
   "id": "d04444b6-385b-4b91-87ae-6e6254b5426a",
   "metadata": {
    "tags": []
   },
   "outputs": [
    {
     "name": "stderr",
     "output_type": "stream",
     "text": [
      "/opt/conda/lib/python3.9/site-packages/mplhep/utils.py:197: RuntimeWarning: All sumw are zero!  Cannot compute meaningful error bars\n",
      "  return np.abs(method_fcn(self.values, variances) - self.values)\n"
     ]
    },
    {
     "data": {
      "text/plain": [
       "<matplotlib.legend.Legend at 0x7faddaad9d00>"
      ]
     },
     "execution_count": 15,
     "metadata": {},
     "output_type": "execute_result"
    },
    {
     "data": {
      "image/png": "[encoded data removed]",
      "text/plain": [
       "<Figure size 1200x500 with 2 Axes>"
      ]
     },
     "metadata": {},
     "output_type": "display_data"
    }
   ],
   "source": [
    "plt.subplots(1, 2, figsize=(24, 10))\n",
    "plt.subplot(1, 2, 1)\n",
    "utilities.plot(hists[\"muon_n\"][\"baseNoLj\", :])\n",
    "utilities.plot(hists[\"dsaMuon_n\"][\"baseNoLj\", :])\n",
    "plt.legend([\"PF\", \"DSA\"])\n",
    "plt.subplot(1, 2, 2)\n",
    "utilities.plot(hists[\"muon_pt\"][\"baseNoLj\", ::2j])\n",
    "utilities.plot(hists[\"dsaMuon_pt\"][\"baseNoLj\", ::2j])\n",
    "plt.legend([\"PF\", \"DSA\"])"
   ]
  },
  {
   "cell_type": "code",
   "execution_count": 16,
   "id": "c1a63421-e6ea-42f3-8e45-918f5bd81ee5",
   "metadata": {
    "tags": []
   },
   "outputs": [
    {
     "data": {
      "text/plain": [
       "[StairsArtists(stairs=<matplotlib.patches.StepPatch object at 0x7fadda9c0ca0>, errorbar=<ErrorbarContainer object of 3 artists>, legend_artist=<ErrorbarContainer object of 3 artists>)]"
      ]
     },
     "execution_count": 16,
     "metadata": {},
     "output_type": "execute_result"
    },
    {
     "data": {
      "image/png": "[encoded data removed]",
      "text/plain": [
       "<Figure size 1200x500 with 2 Axes>"
      ]
     },
     "metadata": {},
     "output_type": "display_data"
    }
   ],
   "source": [
    "plt.subplots(1, 2, figsize=(24, 10))\n",
    "plt.subplot(1, 2, 1)\n",
    "utilities.plot(hists[\"lj_n\"][\"baseNoLj\", :])\n",
    "plt.subplot(1, 2, 2)\n",
    "utilities.plot(hists[\"lj_pt\"][\"baseNoLj\", :])"
   ]
  },
  {
   "cell_type": "code",
   "execution_count": 17,
   "id": "b38c6bd5-ad21-44e9-9d90-829c14234157",
   "metadata": {},
   "outputs": [
    {
     "data": {
      "text/plain": [
       "[StairsArtists(stairs=<matplotlib.patches.StepPatch object at 0x7fadeee91100>, errorbar=<ErrorbarContainer object of 3 artists>, legend_artist=<ErrorbarContainer object of 3 artists>)]"
      ]
     },
     "execution_count": 17,
     "metadata": {},
     "output_type": "execute_result"
    },
    {
     "data": {
      "image/png": "[encoded data removed]",
      "text/plain": [
       "<Figure size 1200x1200 with 4 Axes>"
      ]
     },
     "metadata": {},
     "output_type": "display_data"
    }
   ],
   "source": [
    "plt.subplots(2, 2, figsize=(24, 24))\n",
    "plt.subplot(2, 2, 1)\n",
    "utilities.plot(hists[\"lj_electronN\"][\"baseNoLj\", :])\n",
    "plt.subplot(2, 2, 2)\n",
    "utilities.plot(hists[\"lj_photonN\"][\"baseNoLj\", :])\n",
    "plt.subplot(2, 2, 3)\n",
    "utilities.plot(hists[\"lj_muonN\"][\"baseNoLj\", :])\n",
    "#plt.subplot(2, 2, 4)\n",
    "#utilities.plot(hists[\"lj_dsaMuonN\"][\"llpnano\", :])"
   ]
  },
  {
   "cell_type": "code",
   "execution_count": null,
   "id": "5ae4325e-b245-4e9a-bbfe-07e5cc268af8",
   "metadata": {},
   "outputs": [],
   "source": []
  }
 ],
 "metadata": {
  "kernelspec": {
   "display_name": "Python 3 (ipykernel)",
   "language": "python",
   "name": "python3"
  },
  "language_info": {
   "codemirror_mode": {
    "name": "ipython",
    "version": 3
   },
   "file_extension": ".py",
   "mimetype": "text/x-python",
   "name": "python",
   "nbconvert_exporter": "python",
   "pygments_lexer": "ipython3",
   "version": "3.9.18"
  }
 },
 "nbformat": 4,
 "nbformat_minor": 5
}
