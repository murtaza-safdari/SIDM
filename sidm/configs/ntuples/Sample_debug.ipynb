{
 "cells": [
  {
   "cell_type": "code",
   "execution_count": 1,
   "id": "e7df5718-b3b1-40c4-ab89-201c557b4134",
   "metadata": {
    "tags": []
   },
   "outputs": [],
   "source": [
    "# python\n",
    "import sys\n",
    "import os\n",
    "import importlib\n",
    "# columnar analysis\n",
    "from coffea import processor\n",
    "from coffea.nanoevents import NanoEventsFactory, NanoAODSchema\n",
    "import awkward as ak\n",
    "from dask.distributed import Client\n",
    "# local\n",
    "sys.path.insert(1, os.path.join(sys.path[0], '../../..')) # fixme: there must be a better way to handle this...\n",
    "from sidm.tools import ffschema, sidm_processor, utilities\n",
    "# always reload local modules to pick up changes during development\n",
    "importlib.reload(ffschema)\n",
    "importlib.reload(sidm_processor)\n",
    "importlib.reload(utilities)\n",
    "# plotting\n",
    "import matplotlib.pyplot as plt\n",
    "utilities.set_plot_style()\n",
    "%matplotlib inline\n",
    "from tqdm.notebook import tqdm\n",
    "import numpy as np"
   ]
  },
  {
   "cell_type": "code",
   "execution_count": 2,
   "id": "8fde513f-1ae3-4976-b071-6c73958fda28",
   "metadata": {
    "tags": []
   },
   "outputs": [],
   "source": [
    "samples_4mu = [\n",
    "    \n",
    "    \"4Mu_1000GeV_0p25GeV_0p002mm\",\n",
    "    \"4Mu_1000GeV_0p25GeV_0p02mm\",\n",
    "    \"4Mu_1000GeV_0p25GeV_0p2mm\",\n",
    "    # \"4Mu_800GeV_5p0GeV_25p0mm\",\n",
    "    # \"4Mu_800GeV_5p0GeV_50p0mm\",\n",
    "]"
   ]
  },
  {
   "cell_type": "code",
   "execution_count": 3,
   "id": "aa2f6364-373e-4324-814f-e5f40a87994a",
   "metadata": {
    "tags": []
   },
   "outputs": [
    {
     "data": {
      "application/vnd.jupyter.widget-view+json": {
       "model_id": "6836341c5a4a4509af17f5637ae8e816",
       "version_major": 2,
       "version_minor": 0
      },
      "text/plain": [
       "Output()"
      ]
     },
     "metadata": {},
     "output_type": "display_data"
    },
    {
     "data": {
      "text/html": [
       "<pre style=\"white-space:pre;overflow-x:auto;line-height:normal;font-family:Menlo,'DejaVu Sans Mono',consolas,'Courier New',monospace\">/opt/conda/lib/python3.9/site-packages/coffea/processor/executor.py:1360: UserWarning: XRootD error: [ERROR] \n",
       "Operation expired\n",
       "in file \n",
       "root://xcache//store/group/lpcmetx/SIDM/ULSignalSamples/2018_v10/CutDecayFalse_SIDM_BsTo2DpTo4Mu_MBs-1000_MDp-0p25_\n",
       "ctau-0p02_v3/LLPnanoAODv2/CutDecayFalse_SIDM_BsTo2DpTo4Mu_MBs-1000_MDp-0p25_ctau-0p02_v3.root\n",
       "  warnings.warn(str(e))\n",
       "</pre>\n"
      ],
      "text/plain": [
       "/opt/conda/lib/python3.9/site-packages/coffea/processor/executor.py:1360: UserWarning: XRootD error: [ERROR] \n",
       "Operation expired\n",
       "in file \n",
       "root://xcache//store/group/lpcmetx/SIDM/ULSignalSamples/2018_v10/CutDecayFalse_SIDM_BsTo2DpTo4Mu_MBs-1000_MDp-0p25_\n",
       "ctau-0p02_v3/LLPnanoAODv2/CutDecayFalse_SIDM_BsTo2DpTo4Mu_MBs-1000_MDp-0p25_ctau-0p02_v3.root\n",
       "  warnings.warn(str(e))\n"
      ]
     },
     "metadata": {},
     "output_type": "display_data"
    },
    {
     "data": {
      "text/html": [
       "<pre style=\"white-space:pre;overflow-x:auto;line-height:normal;font-family:Menlo,'DejaVu Sans Mono',consolas,'Courier New',monospace\">/opt/conda/lib/python3.9/site-packages/coffea/processor/executor.py:1360: UserWarning: XRootD error: [ERROR] \n",
       "Operation expired\n",
       "in file \n",
       "root://xcache//store/group/lpcmetx/SIDM/ULSignalSamples/2018_v10/CutDecayFalse_SIDM_BsTo2DpTo4Mu_MBs-1000_MDp-0p25_\n",
       "ctau-0p002_v3/LLPnanoAODv2/CutDecayFalse_SIDM_BsTo2DpTo4Mu_MBs-1000_MDp-0p25_ctau-0p002_v3.root\n",
       "  warnings.warn(str(e))\n",
       "</pre>\n"
      ],
      "text/plain": [
       "/opt/conda/lib/python3.9/site-packages/coffea/processor/executor.py:1360: UserWarning: XRootD error: [ERROR] \n",
       "Operation expired\n",
       "in file \n",
       "root://xcache//store/group/lpcmetx/SIDM/ULSignalSamples/2018_v10/CutDecayFalse_SIDM_BsTo2DpTo4Mu_MBs-1000_MDp-0p25_\n",
       "ctau-0p002_v3/LLPnanoAODv2/CutDecayFalse_SIDM_BsTo2DpTo4Mu_MBs-1000_MDp-0p25_ctau-0p002_v3.root\n",
       "  warnings.warn(str(e))\n"
      ]
     },
     "metadata": {},
     "output_type": "display_data"
    },
    {
     "data": {
      "text/html": [
       "<pre style=\"white-space:pre;overflow-x:auto;line-height:normal;font-family:Menlo,'DejaVu Sans Mono',consolas,'Courier New',monospace\">/opt/conda/lib/python3.9/site-packages/coffea/processor/executor.py:1360: UserWarning: XRootD error: [ERROR] \n",
       "Operation expired\n",
       "in file \n",
       "root://xcache//store/group/lpcmetx/SIDM/ULSignalSamples/2018_v10/CutDecayFalse_SIDM_BsTo2DpTo4Mu_MBs-1000_MDp-0p25_\n",
       "ctau-0p2_v3/LLPnanoAODv2/CutDecayFalse_SIDM_BsTo2DpTo4Mu_MBs-1000_MDp-0p25_ctau-0p2_v3.root\n",
       "  warnings.warn(str(e))\n",
       "</pre>\n"
      ],
      "text/plain": [
       "/opt/conda/lib/python3.9/site-packages/coffea/processor/executor.py:1360: UserWarning: XRootD error: [ERROR] \n",
       "Operation expired\n",
       "in file \n",
       "root://xcache//store/group/lpcmetx/SIDM/ULSignalSamples/2018_v10/CutDecayFalse_SIDM_BsTo2DpTo4Mu_MBs-1000_MDp-0p25_\n",
       "ctau-0p2_v3/LLPnanoAODv2/CutDecayFalse_SIDM_BsTo2DpTo4Mu_MBs-1000_MDp-0p25_ctau-0p2_v3.root\n",
       "  warnings.warn(str(e))\n"
      ]
     },
     "metadata": {},
     "output_type": "display_data"
    },
    {
     "data": {
      "text/html": [
       "<pre style=\"white-space:pre;overflow-x:auto;line-height:normal;font-family:Menlo,'DejaVu Sans Mono',consolas,'Courier New',monospace\"></pre>\n"
      ],
      "text/plain": []
     },
     "metadata": {},
     "output_type": "display_data"
    },
    {
     "data": {
      "text/html": [
       "<pre style=\"white-space:pre;overflow-x:auto;line-height:normal;font-family:Menlo,'DejaVu Sans Mono',consolas,'Courier New',monospace\">\n",
       "</pre>\n"
      ],
      "text/plain": [
       "\n"
      ]
     },
     "metadata": {},
     "output_type": "display_data"
    },
    {
     "ename": "TypeError",
     "evalue": "cannot unpack non-iterable NoneType object",
     "output_type": "error",
     "traceback": [
      "\u001b[0;31m---------------------------------------------------------------------------\u001b[0m",
      "\u001b[0;31mTypeError\u001b[0m                                 Traceback (most recent call last)",
      "Cell \u001b[0;32mIn[3], line 20\u001b[0m\n\u001b[1;32m     11\u001b[0m channels \u001b[38;5;241m=\u001b[39m [\n\u001b[1;32m     12\u001b[0m     \u001b[38;5;124m\"\u001b[39m\u001b[38;5;124mbase\u001b[39m\u001b[38;5;124m\"\u001b[39m,\n\u001b[1;32m     13\u001b[0m ]\n\u001b[1;32m     15\u001b[0m p \u001b[38;5;241m=\u001b[39m sidm_processor\u001b[38;5;241m.\u001b[39mSidmProcessor(\n\u001b[1;32m     16\u001b[0m     channels,\n\u001b[1;32m     17\u001b[0m     [\u001b[38;5;124m\"\u001b[39m\u001b[38;5;124mabcd_base\u001b[39m\u001b[38;5;124m\"\u001b[39m],\n\u001b[1;32m     18\u001b[0m )\n\u001b[0;32m---> 20\u001b[0m output_4mu \u001b[38;5;241m=\u001b[39m \u001b[43mrunner\u001b[49m\u001b[38;5;241;43m.\u001b[39;49m\u001b[43mrun\u001b[49m\u001b[43m(\u001b[49m\u001b[43mfileset_4mu\u001b[49m\u001b[43m,\u001b[49m\u001b[43m \u001b[49m\u001b[43mtreename\u001b[49m\u001b[38;5;241;43m=\u001b[39;49m\u001b[38;5;124;43m\"\u001b[39;49m\u001b[38;5;124;43mEvents\u001b[39;49m\u001b[38;5;124;43m\"\u001b[39;49m\u001b[43m,\u001b[49m\u001b[43m \u001b[49m\u001b[43mprocessor_instance\u001b[49m\u001b[38;5;241;43m=\u001b[39;49m\u001b[43mp\u001b[49m\u001b[43m)\u001b[49m\n\u001b[1;32m     21\u001b[0m out_4mu \u001b[38;5;241m=\u001b[39m output_4mu[\u001b[38;5;124m\"\u001b[39m\u001b[38;5;124mout\u001b[39m\u001b[38;5;124m\"\u001b[39m]\n",
      "File \u001b[0;32m/opt/conda/lib/python3.9/site-packages/coffea/processor/executor.py:1848\u001b[0m, in \u001b[0;36mRunner.run\u001b[0;34m(self, fileset, processor_instance, treename)\u001b[0m\n\u001b[1;32m   1843\u001b[0m closure \u001b[38;5;241m=\u001b[39m partial(\n\u001b[1;32m   1844\u001b[0m     \u001b[38;5;28mself\u001b[39m\u001b[38;5;241m.\u001b[39mautomatic_retries, \u001b[38;5;28mself\u001b[39m\u001b[38;5;241m.\u001b[39mretries, \u001b[38;5;28mself\u001b[39m\u001b[38;5;241m.\u001b[39mskipbadfiles, closure\n\u001b[1;32m   1845\u001b[0m )\n\u001b[1;32m   1847\u001b[0m executor \u001b[38;5;241m=\u001b[39m \u001b[38;5;28mself\u001b[39m\u001b[38;5;241m.\u001b[39mexecutor\u001b[38;5;241m.\u001b[39mcopy(\u001b[38;5;241m*\u001b[39m\u001b[38;5;241m*\u001b[39mexe_args)\n\u001b[0;32m-> 1848\u001b[0m wrapped_out, e \u001b[38;5;241m=\u001b[39m executor(chunks, closure, \u001b[38;5;28;01mNone\u001b[39;00m)\n\u001b[1;32m   1849\u001b[0m \u001b[38;5;28;01mif\u001b[39;00m wrapped_out \u001b[38;5;129;01mis\u001b[39;00m \u001b[38;5;28;01mNone\u001b[39;00m:\n\u001b[1;32m   1850\u001b[0m     \u001b[38;5;28;01mraise\u001b[39;00m \u001b[38;5;167;01mValueError\u001b[39;00m(\n\u001b[1;32m   1851\u001b[0m         \u001b[38;5;124m\"\u001b[39m\u001b[38;5;124mNo chunks returned results, verify ``processor`` instance structure.\u001b[39m\u001b[38;5;130;01m\\n\u001b[39;00m\u001b[38;5;130;01m\\\u001b[39;00m\n\u001b[1;32m   1852\u001b[0m \u001b[38;5;124m        if you used skipbadfiles=True, it is possible all your files are bad.\u001b[39m\u001b[38;5;124m\"\u001b[39m\n\u001b[1;32m   1853\u001b[0m     )\n",
      "\u001b[0;31mTypeError\u001b[0m: cannot unpack non-iterable NoneType object"
     ]
    }
   ],
   "source": [
    "fileset_4mu = utilities.make_fileset(samples_4mu, \"cutdecay_false_merge\", location_cfg=\"signal_v10.yaml\")\n",
    "\n",
    "runner = processor.Runner(\n",
    "    executor=processor.IterativeExecutor(),\n",
    "    #executor=processor.FuturesExecutor(),\n",
    "    schema=NanoAODSchema,\n",
    "#    maxchunks=10,\n",
    "    skipbadfiles=True\n",
    ")\n",
    "\n",
    "channels = [\n",
    "    \"base\",\n",
    "]\n",
    "\n",
    "p = sidm_processor.SidmProcessor(\n",
    "    channels,\n",
    "    [\"abcd_base\"],\n",
    ")\n",
    "\n",
    "output_4mu = runner.run(fileset_4mu, treename=\"Events\", processor_instance=p)\n",
    "out_4mu = output_4mu[\"out\"]"
   ]
  },
  {
   "cell_type": "code",
   "execution_count": null,
   "id": "996f05dd-7c33-4a6c-ab87-a2714de8664a",
   "metadata": {},
   "outputs": [],
   "source": []
  }
 ],
 "metadata": {
  "kernelspec": {
   "display_name": "Python 3 (ipykernel)",
   "language": "python",
   "name": "python3"
  },
  "language_info": {
   "codemirror_mode": {
    "name": "ipython",
    "version": 3
   },
   "file_extension": ".py",
   "mimetype": "text/x-python",
   "name": "python",
   "nbconvert_exporter": "python",
   "pygments_lexer": "ipython3",
   "version": "3.9.18"
  }
 },
 "nbformat": 4,
 "nbformat_minor": 5
}
